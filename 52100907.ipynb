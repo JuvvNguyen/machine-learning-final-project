{
 "cells": [
  {
   "cell_type": "markdown",
   "metadata": {},
   "source": [
    "Thành viên:\n",
    "Nguyễn Hoàng Linh - 52100907"
   ]
  },
  {
   "cell_type": "code",
   "execution_count": 1,
   "metadata": {},
   "outputs": [
    {
     "name": "stdout",
     "output_type": "stream",
     "text": [
      "Defaulting to user installation because normal site-packages is not writeable\n",
      "Requirement already satisfied: pandas in c:\\users\\nglin\\appdata\\roaming\\python\\python310\\site-packages (2.1.1)\n",
      "Requirement already satisfied: numpy>=1.22.4 in c:\\users\\nglin\\appdata\\roaming\\python\\python310\\site-packages (from pandas) (1.24.4)\n",
      "Requirement already satisfied: python-dateutil>=2.8.2 in c:\\users\\nglin\\appdata\\roaming\\python\\python310\\site-packages (from pandas) (2.8.2)\n",
      "Requirement already satisfied: pytz>=2020.1 in c:\\users\\nglin\\appdata\\roaming\\python\\python310\\site-packages (from pandas) (2023.3.post1)\n",
      "Requirement already satisfied: tzdata>=2022.1 in c:\\users\\nglin\\appdata\\roaming\\python\\python310\\site-packages (from pandas) (2023.3)\n",
      "Requirement already satisfied: six>=1.5 in c:\\users\\nglin\\appdata\\roaming\\python\\python310\\site-packages (from python-dateutil>=2.8.2->pandas) (1.16.0)\n"
     ]
    },
    {
     "name": "stderr",
     "output_type": "stream",
     "text": [
      "\n",
      "[notice] A new release of pip is available: 23.1.1 -> 23.3.2\n",
      "[notice] To update, run: python.exe -m pip install --upgrade pip\n"
     ]
    },
    {
     "name": "stdout",
     "output_type": "stream",
     "text": [
      "Defaulting to user installation because normal site-packages is not writeable\n",
      "Requirement already satisfied: numpy in c:\\users\\nglin\\appdata\\roaming\\python\\python310\\site-packages (1.24.4)\n"
     ]
    },
    {
     "name": "stderr",
     "output_type": "stream",
     "text": [
      "\n",
      "[notice] A new release of pip is available: 23.1.1 -> 23.3.2\n",
      "[notice] To update, run: python.exe -m pip install --upgrade pip\n"
     ]
    },
    {
     "name": "stdout",
     "output_type": "stream",
     "text": [
      "Defaulting to user installation because normal site-packages is not writeable\n",
      "Requirement already satisfied: matplotlib in c:\\users\\nglin\\appdata\\roaming\\python\\python310\\site-packages (3.8.0)\n",
      "Requirement already satisfied: contourpy>=1.0.1 in c:\\users\\nglin\\appdata\\roaming\\python\\python310\\site-packages (from matplotlib) (1.1.1)\n",
      "Requirement already satisfied: cycler>=0.10 in c:\\users\\nglin\\appdata\\roaming\\python\\python310\\site-packages (from matplotlib) (0.11.0)\n",
      "Requirement already satisfied: fonttools>=4.22.0 in c:\\users\\nglin\\appdata\\roaming\\python\\python310\\site-packages (from matplotlib) (4.42.1)\n",
      "Requirement already satisfied: kiwisolver>=1.0.1 in c:\\users\\nglin\\appdata\\roaming\\python\\python310\\site-packages (from matplotlib) (1.4.5)\n",
      "Requirement already satisfied: numpy<2,>=1.21 in c:\\users\\nglin\\appdata\\roaming\\python\\python310\\site-packages (from matplotlib) (1.24.4)\n",
      "Requirement already satisfied: packaging>=20.0 in c:\\users\\nglin\\appdata\\roaming\\python\\python310\\site-packages (from matplotlib) (23.0)\n",
      "Requirement already satisfied: pillow>=6.2.0 in c:\\users\\nglin\\appdata\\roaming\\python\\python310\\site-packages (from matplotlib) (9.5.0)\n",
      "Requirement already satisfied: pyparsing>=2.3.1 in c:\\users\\nglin\\appdata\\roaming\\python\\python310\\site-packages (from matplotlib) (3.1.1)\n",
      "Requirement already satisfied: python-dateutil>=2.7 in c:\\users\\nglin\\appdata\\roaming\\python\\python310\\site-packages (from matplotlib) (2.8.2)\n",
      "Requirement already satisfied: six>=1.5 in c:\\users\\nglin\\appdata\\roaming\\python\\python310\\site-packages (from python-dateutil>=2.7->matplotlib) (1.16.0)\n"
     ]
    },
    {
     "name": "stderr",
     "output_type": "stream",
     "text": [
      "\n",
      "[notice] A new release of pip is available: 23.1.1 -> 23.3.2\n",
      "[notice] To update, run: python.exe -m pip install --upgrade pip\n"
     ]
    },
    {
     "name": "stdout",
     "output_type": "stream",
     "text": [
      "Defaulting to user installation because normal site-packages is not writeable\n",
      "Requirement already satisfied: seaborn in c:\\users\\nglin\\appdata\\roaming\\python\\python310\\site-packages (0.13.0)\n",
      "Requirement already satisfied: numpy!=1.24.0,>=1.20 in c:\\users\\nglin\\appdata\\roaming\\python\\python310\\site-packages (from seaborn) (1.24.4)\n",
      "Requirement already satisfied: pandas>=1.2 in c:\\users\\nglin\\appdata\\roaming\\python\\python310\\site-packages (from seaborn) (2.1.1)\n",
      "Requirement already satisfied: matplotlib!=3.6.1,>=3.3 in c:\\users\\nglin\\appdata\\roaming\\python\\python310\\site-packages (from seaborn) (3.8.0)\n",
      "Requirement already satisfied: contourpy>=1.0.1 in c:\\users\\nglin\\appdata\\roaming\\python\\python310\\site-packages (from matplotlib!=3.6.1,>=3.3->seaborn) (1.1.1)\n",
      "Requirement already satisfied: cycler>=0.10 in c:\\users\\nglin\\appdata\\roaming\\python\\python310\\site-packages (from matplotlib!=3.6.1,>=3.3->seaborn) (0.11.0)\n",
      "Requirement already satisfied: fonttools>=4.22.0 in c:\\users\\nglin\\appdata\\roaming\\python\\python310\\site-packages (from matplotlib!=3.6.1,>=3.3->seaborn) (4.42.1)\n",
      "Requirement already satisfied: kiwisolver>=1.0.1 in c:\\users\\nglin\\appdata\\roaming\\python\\python310\\site-packages (from matplotlib!=3.6.1,>=3.3->seaborn) (1.4.5)\n",
      "Requirement already satisfied: packaging>=20.0 in c:\\users\\nglin\\appdata\\roaming\\python\\python310\\site-packages (from matplotlib!=3.6.1,>=3.3->seaborn) (23.0)\n",
      "Requirement already satisfied: pillow>=6.2.0 in c:\\users\\nglin\\appdata\\roaming\\python\\python310\\site-packages (from matplotlib!=3.6.1,>=3.3->seaborn) (9.5.0)\n",
      "Requirement already satisfied: pyparsing>=2.3.1 in c:\\users\\nglin\\appdata\\roaming\\python\\python310\\site-packages (from matplotlib!=3.6.1,>=3.3->seaborn) (3.1.1)\n",
      "Requirement already satisfied: python-dateutil>=2.7 in c:\\users\\nglin\\appdata\\roaming\\python\\python310\\site-packages (from matplotlib!=3.6.1,>=3.3->seaborn) (2.8.2)\n",
      "Requirement already satisfied: pytz>=2020.1 in c:\\users\\nglin\\appdata\\roaming\\python\\python310\\site-packages (from pandas>=1.2->seaborn) (2023.3.post1)\n",
      "Requirement already satisfied: tzdata>=2022.1 in c:\\users\\nglin\\appdata\\roaming\\python\\python310\\site-packages (from pandas>=1.2->seaborn) (2023.3)\n",
      "Requirement already satisfied: six>=1.5 in c:\\users\\nglin\\appdata\\roaming\\python\\python310\\site-packages (from python-dateutil>=2.7->matplotlib!=3.6.1,>=3.3->seaborn) (1.16.0)\n"
     ]
    },
    {
     "name": "stderr",
     "output_type": "stream",
     "text": [
      "\n",
      "[notice] A new release of pip is available: 23.1.1 -> 23.3.2\n",
      "[notice] To update, run: python.exe -m pip install --upgrade pip\n"
     ]
    },
    {
     "name": "stdout",
     "output_type": "stream",
     "text": [
      "Defaulting to user installation because normal site-packages is not writeable\n",
      "Collecting sklearn\n",
      "  Using cached sklearn-0.0.post12.tar.gz (2.6 kB)\n",
      "  Preparing metadata (setup.py): started\n",
      "  Preparing metadata (setup.py): finished with status 'error'\n"
     ]
    },
    {
     "name": "stderr",
     "output_type": "stream",
     "text": [
      "  error: subprocess-exited-with-error\n",
      "  \n",
      "  × python setup.py egg_info did not run successfully.\n",
      "  │ exit code: 1\n",
      "  ╰─> [15 lines of output]\n",
      "      The 'sklearn' PyPI package is deprecated, use 'scikit-learn'\n",
      "      rather than 'sklearn' for pip commands.\n",
      "      \n",
      "      Here is how to fix this error in the main use cases:\n",
      "      - use 'pip install scikit-learn' rather than 'pip install sklearn'\n",
      "      - replace 'sklearn' by 'scikit-learn' in your pip requirements files\n",
      "        (requirements.txt, setup.py, setup.cfg, Pipfile, etc ...)\n",
      "      - if the 'sklearn' package is used by one of your dependencies,\n",
      "        it would be great if you take some time to track which package uses\n",
      "        'sklearn' instead of 'scikit-learn' and report it to their issue tracker\n",
      "      - as a last resort, set the environment variable\n",
      "        SKLEARN_ALLOW_DEPRECATED_SKLEARN_PACKAGE_INSTALL=True to avoid this error\n",
      "      \n",
      "      More information is available at\n",
      "      https://github.com/scikit-learn/sklearn-pypi-package\n",
      "      [end of output]\n",
      "  \n",
      "  note: This error originates from a subprocess, and is likely not a problem with pip.\n",
      "error: metadata-generation-failed\n",
      "\n",
      "× Encountered error while generating package metadata.\n",
      "╰─> See above for output.\n",
      "\n",
      "note: This is an issue with the package mentioned above, not pip.\n",
      "hint: See above for details.\n",
      "\n",
      "[notice] A new release of pip is available: 23.1.1 -> 23.3.2\n",
      "[notice] To update, run: python.exe -m pip install --upgrade pip\n"
     ]
    },
    {
     "name": "stdout",
     "output_type": "stream",
     "text": [
      "Defaulting to user installation because normal site-packages is not writeable\n",
      "Requirement already satisfied: tensorflow in c:\\users\\nglin\\appdata\\roaming\\python\\python310\\site-packages (2.14.0)\n",
      "Requirement already satisfied: tensorflow-intel==2.14.0 in c:\\users\\nglin\\appdata\\roaming\\python\\python310\\site-packages (from tensorflow) (2.14.0)\n",
      "Requirement already satisfied: absl-py>=1.0.0 in c:\\users\\nglin\\appdata\\roaming\\python\\python310\\site-packages (from tensorflow-intel==2.14.0->tensorflow) (2.0.0)\n",
      "Requirement already satisfied: astunparse>=1.6.0 in c:\\users\\nglin\\appdata\\roaming\\python\\python310\\site-packages (from tensorflow-intel==2.14.0->tensorflow) (1.6.3)\n",
      "Requirement already satisfied: flatbuffers>=23.5.26 in c:\\users\\nglin\\appdata\\roaming\\python\\python310\\site-packages (from tensorflow-intel==2.14.0->tensorflow) (23.5.26)\n",
      "Requirement already satisfied: gast!=0.5.0,!=0.5.1,!=0.5.2,>=0.2.1 in c:\\users\\nglin\\appdata\\roaming\\python\\python310\\site-packages (from tensorflow-intel==2.14.0->tensorflow) (0.5.4)\n",
      "Requirement already satisfied: google-pasta>=0.1.1 in c:\\users\\nglin\\appdata\\roaming\\python\\python310\\site-packages (from tensorflow-intel==2.14.0->tensorflow) (0.2.0)\n",
      "Requirement already satisfied: h5py>=2.9.0 in c:\\users\\nglin\\appdata\\roaming\\python\\python310\\site-packages (from tensorflow-intel==2.14.0->tensorflow) (3.10.0)\n",
      "Requirement already satisfied: libclang>=13.0.0 in c:\\users\\nglin\\appdata\\roaming\\python\\python310\\site-packages (from tensorflow-intel==2.14.0->tensorflow) (16.0.6)\n",
      "Requirement already satisfied: ml-dtypes==0.2.0 in c:\\users\\nglin\\appdata\\roaming\\python\\python310\\site-packages (from tensorflow-intel==2.14.0->tensorflow) (0.2.0)\n",
      "Requirement already satisfied: numpy>=1.23.5 in c:\\users\\nglin\\appdata\\roaming\\python\\python310\\site-packages (from tensorflow-intel==2.14.0->tensorflow) (1.24.4)\n",
      "Requirement already satisfied: opt-einsum>=2.3.2 in c:\\users\\nglin\\appdata\\roaming\\python\\python310\\site-packages (from tensorflow-intel==2.14.0->tensorflow) (3.3.0)\n",
      "Requirement already satisfied: packaging in c:\\users\\nglin\\appdata\\roaming\\python\\python310\\site-packages (from tensorflow-intel==2.14.0->tensorflow) (23.0)\n",
      "Requirement already satisfied: protobuf!=4.21.0,!=4.21.1,!=4.21.2,!=4.21.3,!=4.21.4,!=4.21.5,<5.0.0dev,>=3.20.3 in c:\\users\\nglin\\appdata\\roaming\\python\\python310\\site-packages (from tensorflow-intel==2.14.0->tensorflow) (4.24.4)\n",
      "Requirement already satisfied: setuptools in c:\\program files\\python310\\lib\\site-packages (from tensorflow-intel==2.14.0->tensorflow) (57.4.0)\n",
      "Requirement already satisfied: six>=1.12.0 in c:\\users\\nglin\\appdata\\roaming\\python\\python310\\site-packages (from tensorflow-intel==2.14.0->tensorflow) (1.16.0)\n",
      "Requirement already satisfied: termcolor>=1.1.0 in c:\\users\\nglin\\appdata\\roaming\\python\\python310\\site-packages (from tensorflow-intel==2.14.0->tensorflow) (2.3.0)\n",
      "Requirement already satisfied: typing-extensions>=3.6.6 in c:\\users\\nglin\\appdata\\roaming\\python\\python310\\site-packages (from tensorflow-intel==2.14.0->tensorflow) (4.8.0)\n",
      "Requirement already satisfied: wrapt<1.15,>=1.11.0 in c:\\users\\nglin\\appdata\\roaming\\python\\python310\\site-packages (from tensorflow-intel==2.14.0->tensorflow) (1.14.1)\n",
      "Requirement already satisfied: tensorflow-io-gcs-filesystem>=0.23.1 in c:\\users\\nglin\\appdata\\roaming\\python\\python310\\site-packages (from tensorflow-intel==2.14.0->tensorflow) (0.31.0)\n",
      "Requirement already satisfied: grpcio<2.0,>=1.24.3 in c:\\users\\nglin\\appdata\\roaming\\python\\python310\\site-packages (from tensorflow-intel==2.14.0->tensorflow) (1.59.0)\n",
      "Requirement already satisfied: tensorboard<2.15,>=2.14 in c:\\users\\nglin\\appdata\\roaming\\python\\python310\\site-packages (from tensorflow-intel==2.14.0->tensorflow) (2.14.1)\n",
      "Requirement already satisfied: tensorflow-estimator<2.15,>=2.14.0 in c:\\users\\nglin\\appdata\\roaming\\python\\python310\\site-packages (from tensorflow-intel==2.14.0->tensorflow) (2.14.0)\n",
      "Requirement already satisfied: keras<2.15,>=2.14.0 in c:\\users\\nglin\\appdata\\roaming\\python\\python310\\site-packages (from tensorflow-intel==2.14.0->tensorflow) (2.14.0)\n",
      "Requirement already satisfied: wheel<1.0,>=0.23.0 in c:\\users\\nglin\\appdata\\roaming\\python\\python310\\site-packages (from astunparse>=1.6.0->tensorflow-intel==2.14.0->tensorflow) (0.41.2)\n",
      "Requirement already satisfied: google-auth<3,>=1.6.3 in c:\\users\\nglin\\appdata\\roaming\\python\\python310\\site-packages (from tensorboard<2.15,>=2.14->tensorflow-intel==2.14.0->tensorflow) (2.23.3)\n",
      "Requirement already satisfied: google-auth-oauthlib<1.1,>=0.5 in c:\\users\\nglin\\appdata\\roaming\\python\\python310\\site-packages (from tensorboard<2.15,>=2.14->tensorflow-intel==2.14.0->tensorflow) (1.0.0)\n",
      "Requirement already satisfied: markdown>=2.6.8 in c:\\users\\nglin\\appdata\\roaming\\python\\python310\\site-packages (from tensorboard<2.15,>=2.14->tensorflow-intel==2.14.0->tensorflow) (3.5)\n",
      "Requirement already satisfied: requests<3,>=2.21.0 in c:\\users\\nglin\\appdata\\roaming\\python\\python310\\site-packages (from tensorboard<2.15,>=2.14->tensorflow-intel==2.14.0->tensorflow) (2.28.2)\n",
      "Requirement already satisfied: tensorboard-data-server<0.8.0,>=0.7.0 in c:\\users\\nglin\\appdata\\roaming\\python\\python310\\site-packages (from tensorboard<2.15,>=2.14->tensorflow-intel==2.14.0->tensorflow) (0.7.1)\n",
      "Requirement already satisfied: werkzeug>=1.0.1 in c:\\users\\nglin\\appdata\\roaming\\python\\python310\\site-packages (from tensorboard<2.15,>=2.14->tensorflow-intel==2.14.0->tensorflow) (2.2.3)\n",
      "Requirement already satisfied: cachetools<6.0,>=2.0.0 in c:\\users\\nglin\\appdata\\roaming\\python\\python310\\site-packages (from google-auth<3,>=1.6.3->tensorboard<2.15,>=2.14->tensorflow-intel==2.14.0->tensorflow) (5.3.1)\n",
      "Requirement already satisfied: pyasn1-modules>=0.2.1 in c:\\users\\nglin\\appdata\\roaming\\python\\python310\\site-packages (from google-auth<3,>=1.6.3->tensorboard<2.15,>=2.14->tensorflow-intel==2.14.0->tensorflow) (0.3.0)\n",
      "Requirement already satisfied: rsa<5,>=3.1.4 in c:\\users\\nglin\\appdata\\roaming\\python\\python310\\site-packages (from google-auth<3,>=1.6.3->tensorboard<2.15,>=2.14->tensorflow-intel==2.14.0->tensorflow) (4.9)\n",
      "Requirement already satisfied: requests-oauthlib>=0.7.0 in c:\\users\\nglin\\appdata\\roaming\\python\\python310\\site-packages (from google-auth-oauthlib<1.1,>=0.5->tensorboard<2.15,>=2.14->tensorflow-intel==2.14.0->tensorflow) (1.3.1)\n",
      "Requirement already satisfied: charset-normalizer<4,>=2 in c:\\users\\nglin\\appdata\\roaming\\python\\python310\\site-packages (from requests<3,>=2.21.0->tensorboard<2.15,>=2.14->tensorflow-intel==2.14.0->tensorflow) (3.1.0)\n",
      "Requirement already satisfied: idna<4,>=2.5 in c:\\users\\nglin\\appdata\\roaming\\python\\python310\\site-packages (from requests<3,>=2.21.0->tensorboard<2.15,>=2.14->tensorflow-intel==2.14.0->tensorflow) (3.4)\n",
      "Requirement already satisfied: urllib3<1.27,>=1.21.1 in c:\\users\\nglin\\appdata\\roaming\\python\\python310\\site-packages (from requests<3,>=2.21.0->tensorboard<2.15,>=2.14->tensorflow-intel==2.14.0->tensorflow) (1.26.15)\n",
      "Requirement already satisfied: certifi>=2017.4.17 in c:\\users\\nglin\\appdata\\roaming\\python\\python310\\site-packages (from requests<3,>=2.21.0->tensorboard<2.15,>=2.14->tensorflow-intel==2.14.0->tensorflow) (2022.12.7)\n",
      "Requirement already satisfied: MarkupSafe>=2.1.1 in c:\\users\\nglin\\appdata\\roaming\\python\\python310\\site-packages (from werkzeug>=1.0.1->tensorboard<2.15,>=2.14->tensorflow-intel==2.14.0->tensorflow) (2.1.2)\n",
      "Requirement already satisfied: pyasn1<0.6.0,>=0.4.6 in c:\\users\\nglin\\appdata\\roaming\\python\\python310\\site-packages (from pyasn1-modules>=0.2.1->google-auth<3,>=1.6.3->tensorboard<2.15,>=2.14->tensorflow-intel==2.14.0->tensorflow) (0.4.8)\n",
      "Requirement already satisfied: oauthlib>=3.0.0 in c:\\users\\nglin\\appdata\\roaming\\python\\python310\\site-packages (from requests-oauthlib>=0.7.0->google-auth-oauthlib<1.1,>=0.5->tensorboard<2.15,>=2.14->tensorflow-intel==2.14.0->tensorflow) (3.2.2)\n"
     ]
    },
    {
     "name": "stderr",
     "output_type": "stream",
     "text": [
      "\n",
      "[notice] A new release of pip is available: 23.1.1 -> 23.3.2\n",
      "[notice] To update, run: python.exe -m pip install --upgrade pip\n"
     ]
    }
   ],
   "source": [
    "!pip install pandas\n",
    "!pip install numpy\n",
    "!pip install matplotlib\n",
    "!pip install seaborn\n",
    "!pip install sklearn\n",
    "!pip install tensorflow"
   ]
  },
  {
   "cell_type": "code",
   "execution_count": 2,
   "metadata": {},
   "outputs": [],
   "source": [
    "import numpy as np\n",
    "import pandas as pd\n",
    "import matplotlib.pyplot as plt\n",
    "import seaborn as sns\n",
    "import tensorflow as tf\n",
    "from sklearn.linear_model import LogisticRegression\n",
    "from sklearn.svm import SVC\n",
    "from sklearn.tree import DecisionTreeClassifier\n",
    "from tensorflow.keras.models import Sequential\n",
    "from tensorflow.keras.layers import Dense, Dropout, LSTM\n",
    "from tensorflow.keras.callbacks import EarlyStopping\n",
    "from tensorflow.keras import regularizers\n",
    "from sklearn.model_selection import train_test_split\n",
    "from sklearn.ensemble import RandomForestClassifier\n",
    "from sklearn.metrics import accuracy_score\n",
    "from sklearn.model_selection import cross_val_score\n",
    "from sklearn.feature_selection import RFE\n",
    "from tensorflow.keras.layers import SimpleRNN"
   ]
  },
  {
   "cell_type": "markdown",
   "metadata": {},
   "source": [
    "1) Phân tích thống kê trên dữ liệu, vẽ các đồ thị để hiểu bài toán, hiểu dữ liệu. Tìm hiểu các đặc trưng và đánh gía vai trò của các đặc trưng đối với mục tiêu bài toán;\n",
    "\n",
    "    Bài toán: Dự đoán tỉ lệ sống sót của hành khách trên tàu Titanic"
   ]
  },
  {
   "cell_type": "code",
   "execution_count": 3,
   "metadata": {},
   "outputs": [
    {
     "name": "stdout",
     "output_type": "stream",
     "text": [
      "         survived      pclass         age       sibsp       parch        fare\n",
      "count  891.000000  891.000000  714.000000  891.000000  891.000000  891.000000\n",
      "mean     0.383838    2.308642   29.699118    0.523008    0.381594   32.204208\n",
      "std      0.486592    0.836071   14.526497    1.102743    0.806057   49.693429\n",
      "min      0.000000    1.000000    0.420000    0.000000    0.000000    0.000000\n",
      "25%      0.000000    2.000000   20.125000    0.000000    0.000000    7.910400\n",
      "50%      0.000000    3.000000   28.000000    0.000000    0.000000   14.454200\n",
      "75%      1.000000    3.000000   38.000000    1.000000    0.000000   31.000000\n",
      "max      1.000000    3.000000   80.000000    8.000000    6.000000  512.329200\n"
     ]
    },
    {
     "data": {
      "image/png": "[encoded data removed]",
      "text/plain": [
       "<Figure size 1000x600 with 1 Axes>"
      ]
     },
     "metadata": {},
     "output_type": "display_data"
    },
    {
     "data": {
      "image/png": "[encoded data removed]",
      "text/plain": [
       "<Figure size 1000x600 with 1 Axes>"
      ]
     },
     "metadata": {},
     "output_type": "display_data"
    },
    {
     "data": {
      "image/png": "[encoded data removed]",
      "text/plain": [
       "<Figure size 1000x600 with 1 Axes>"
      ]
     },
     "metadata": {},
     "output_type": "display_data"
    },
    {
     "name": "stdout",
     "output_type": "stream",
     "text": [
      "pclass\n",
      "1    0.629630\n",
      "2    0.472826\n",
      "3    0.242363\n",
      "Name: survived, dtype: float64\n"
     ]
    },
    {
     "data": {
      "image/png": "[encoded data removed]",
      "text/plain": [
       "<Figure size 1000x600 with 1 Axes>"
      ]
     },
     "metadata": {},
     "output_type": "display_data"
    }
   ],
   "source": [
    "# Tải dữ liệu từ file csv\n",
    "df = pd.read_csv('titanic.csv')\n",
    "\n",
    "# Thống kê dữ liệu\n",
    "print(df.describe())\n",
    "\n",
    "# Vẽ histogram cho cột 'Age'\n",
    "plt.figure(figsize=(10, 6))\n",
    "sns.histplot(df['age'].dropna(), kde=False, bins=30)\n",
    "plt.title('Age Distribution')\n",
    "plt.show()\n",
    "\n",
    "# Vẽ histogram cho cột 'Fare'\n",
    "plt.figure(figsize=(10, 6))\n",
    "sns.histplot(df['fare'], kde=False, bins=30)\n",
    "plt.title('Fare Distribution')\n",
    "plt.show()\n",
    "\n",
    "# Vẽ biểu đồ cột cho số người sống sót\n",
    "plt.figure(figsize=(10, 6))\n",
    "sns.countplot(x='survived', data=df)\n",
    "plt.title('Survival Count')\n",
    "plt.show()\n",
    "\n",
    "# Đánh giá vai trò của các đặc điểm cho mục tiêu của vấn đề\n",
    "# Tỷ lệ sống sót dựa trên đăc điểm 'Pclass'\n",
    "survival_rate = df.groupby('pclass')['survived'].mean()\n",
    "print(survival_rate)\n",
    "\n",
    "# Vẽ biểu đồ cột cho tỷ lệ sống sót dựa trên đăc điểm 'Pclass'\n",
    "plt.figure(figsize=(10, 6))\n",
    "sns.barplot(x='pclass', y='survived', data=df)\n",
    "plt.title('Survival Rate Based on Pclass')\n",
    "plt.show()"
   ]
  },
  {
   "cell_type": "markdown",
   "metadata": {},
   "source": [
    "2)\tỨng dụng các mô hình học máy cơ bản để giải quyết bài toán, bao gồm cả các mô hình thuộc Ensemble Learing;"
   ]
  },
  {
   "cell_type": "code",
   "execution_count": 4,
   "metadata": {},
   "outputs": [
    {
     "name": "stdout",
     "output_type": "stream",
     "text": [
      "Cross-Validation Accuracy Scores [0.72972973 0.7027027  0.69444444 0.69444444 0.69444444]\n",
      "Accuracy Score 0.7297297297297297\n",
      "Logistic Regression Accuracy: 0.7297297297297297\n",
      "Support Vector Machine Accuracy: 0.6486486486486487\n",
      "Decision Tree Accuracy: 0.5675675675675675\n"
     ]
    }
   ],
   "source": [
    "# Xử lý dữ liệu\n",
    "df = df.dropna()\n",
    "X = df[['pclass', 'age', 'sibsp', 'parch', 'fare']]\n",
    "y = df['survived']\n",
    "\n",
    "# Chia dữ liệu thành tập huấn luyện và tập kiểm tra\n",
    "X_train, X_test, y_train, y_test = train_test_split(\n",
    "    X, y, test_size=0.2, random_state=42)\n",
    "\n",
    "# Tạo Random Forest Classifier\n",
    "clf = RandomForestClassifier(n_estimators=100, max_depth=10)\n",
    "\n",
    "# Feature selection\n",
    "selector = RFE(clf, n_features_to_select=3, step=1)\n",
    "X = selector.fit_transform(X, y)\n",
    "\n",
    "# Huấn luyện mô hình\n",
    "clf.fit(X_train, y_train)\n",
    "\n",
    "# Cross-validation\n",
    "scores = cross_val_score(clf, X, y, cv=5)\n",
    "print('Cross-Validation Accuracy Scores', scores)\n",
    "\n",
    "# Dự đoán kết quả\n",
    "y_pred = clf.predict(X_test)\n",
    "\n",
    "# Đánh giá mô hình\n",
    "print('Accuracy Score', accuracy_score(y_test, y_pred))\n",
    "\n",
    "# Tạo mô hình học máy Logistic Regression\n",
    "logreg = LogisticRegression()\n",
    "logreg.fit(X_train, y_train)\n",
    "\n",
    "# Tạo mô hình học máy Support Vector Machine\n",
    "svm = SVC()\n",
    "svm.fit(X_train, y_train)\n",
    "\n",
    "# Tạo mô hình học máy Decision Tree\n",
    "dt = DecisionTreeClassifier()\n",
    "dt.fit(X_train, y_train)\n",
    "\n",
    "# Đánh giá mô hình\n",
    "logreg_score = logreg.score(X_test, y_test)\n",
    "svm_score = svm.score(X_test, y_test)\n",
    "dt_score = dt.score(X_test, y_test)\n",
    "\n",
    "print('Logistic Regression Accuracy:', logreg_score)\n",
    "print('Support Vector Machine Accuracy:', svm_score)\n",
    "print('Decision Tree Accuracy:', dt_score)\n"
   ]
  },
  {
   "cell_type": "markdown",
   "metadata": {},
   "source": [
    "3)\tSử dụng Feed Forward Neural Network và Reccurent Neural Network (hoặc mô thuộc loại này) để giải quyết bài toán;\n",
    "\n",
    "4)\tÁp dụng các kỹ thuật tránh Overfiting trên các mô hình của câu (2) và câu (3) để giải quyết bài toán;\n",
    "\n",
    "    Các kỹ thuật để tránh overfitting là: regularization, dropout, early stopping, cross validation, feature selection, data augmentation, batch normalization, transfer learning, ensemble learning,...\n",
    "\n",
    "5)\tSau khi huấn luyện xong mô hình thì muốn cải thiện độ chính xác, ta sẽ làm gì để giải quyết nó? Phân tích các trường hợp sai, đề ra giải pháp và thực hiện nó, sau đó đánh giá xem có cải tiến so với trước không. \n",
    "\n",
    "    Để có thể cải thiện độ chính xác của mô hình, ta có thể thực hiện các điều sau:\n",
    "\n",
    "    Phân tích lỗi: Xem xét các trường hợp mà mô hình dự đoán sai. Điều này có thể giúp hiểu được mô hình mắc lỗi ở đâu và tại sao.\n",
    "\n",
    "    Tinh chỉnh tham số (Hyperparameter tuning): Các mô hình học máy thường có nhiều tham số có thể điều chỉnh. Có thể thử nghiệm với các giá trị khác nhau của các tham số để xem liệu có thể cải thiện hiệu suất của mô hình hay không.\n",
    "\n",
    "    Sử dụng kỹ thuật Ensemble Learning: Ensemble Learning là việc kết hợp nhiều mô hình học máy để cải thiện hiệu suất.\n",
    "\n",
    "    Thêm dữ liệu huấn luyện: Việc thêm dữ liệu huấn luyện có thể giúp cải thiện hiệu suất của mô hình.\n",
    "\n",
    "    Feature engineering: Đây là quá trình tạo ra các đặc trưng mới từ dữ liệu hiện có, hoặc biến đổi các đặc trưng hiện tại để chúng có thể giúp mô hình dự đoán chính xác hơn.\n",
    "\n"
   ]
  },
  {
   "cell_type": "code",
   "execution_count": 5,
   "metadata": {},
   "outputs": [
    {
     "name": "stdout",
     "output_type": "stream",
     "text": [
      "Epoch 1/10\n",
      "4/4 [==============================] - 1s 56ms/step - loss: 9.9344 - accuracy: 0.5776 - val_loss: 3.3099 - val_accuracy: 0.7586\n",
      "Epoch 2/10\n",
      "4/4 [==============================] - 0s 9ms/step - loss: 6.9409 - accuracy: 0.6466 - val_loss: 3.0773 - val_accuracy: 0.7586\n",
      "Epoch 3/10\n",
      "4/4 [==============================] - 0s 9ms/step - loss: 6.4727 - accuracy: 0.5431 - val_loss: 2.9739 - val_accuracy: 0.7586\n",
      "Epoch 4/10\n",
      "4/4 [==============================] - 0s 9ms/step - loss: 8.2406 - accuracy: 0.5172 - val_loss: 2.9169 - val_accuracy: 0.7586\n",
      "Epoch 5/10\n",
      "4/4 [==============================] - 0s 9ms/step - loss: 6.5177 - accuracy: 0.6121 - val_loss: 2.8268 - val_accuracy: 0.7586\n",
      "Epoch 6/10\n",
      "4/4 [==============================] - 0s 8ms/step - loss: 6.8002 - accuracy: 0.5862 - val_loss: 2.7051 - val_accuracy: 0.7586\n",
      "Epoch 7/10\n",
      "4/4 [==============================] - 0s 10ms/step - loss: 6.7988 - accuracy: 0.5259 - val_loss: 2.5994 - val_accuracy: 0.7586\n",
      "Epoch 8/10\n",
      "4/4 [==============================] - 0s 9ms/step - loss: 9.4416 - accuracy: 0.5000 - val_loss: 2.4874 - val_accuracy: 0.7586\n",
      "Epoch 9/10\n",
      "4/4 [==============================] - 0s 9ms/step - loss: 7.5517 - accuracy: 0.5603 - val_loss: 2.3800 - val_accuracy: 0.7586\n",
      "Epoch 10/10\n",
      "4/4 [==============================] - 0s 9ms/step - loss: 9.1911 - accuracy: 0.5000 - val_loss: 2.3074 - val_accuracy: 0.7586\n"
     ]
    },
    {
     "data": {
      "text/plain": [
       "<keras.src.callbacks.History at 0x265fcb05ed0>"
      ]
     },
     "execution_count": 5,
     "metadata": {},
     "output_type": "execute_result"
    }
   ],
   "source": [
    "model = Sequential()\n",
    "\n",
    "# Thêm Dense Layer với L1 regularization và dropout\n",
    "model.add(Dense(32, activation='relu',\n",
    "          input_dim=X_train.shape[1], kernel_regularizer=regularizers.l1(0.01)))\n",
    "model.add(Dropout(0.5))\n",
    "\n",
    "model.add(Dense(1, activation='sigmoid',\n",
    "          kernel_regularizer=regularizers.l1(0.01)))\n",
    "\n",
    "model.compile(optimizer='adam', loss='binary_crossentropy',\n",
    "              metrics=['accuracy'])\n",
    "\n",
    "# Định nghĩa callback EarlyStopping\n",
    "early_stopping = EarlyStopping(monitor='val_loss', patience=3)\n",
    "\n",
    "# Fit mô hình với early stopping\n",
    "model.fit(X_train, y_train, epochs=10, batch_size=32,\n",
    "          validation_split=0.2, callbacks=[early_stopping])\n",
    "\n"
   ]
  },
  {
   "cell_type": "code",
   "execution_count": 6,
   "metadata": {},
   "outputs": [
    {
     "name": "stdout",
     "output_type": "stream",
     "text": [
      "Epoch 1/10\n",
      "4/4 [==============================] - 1s 63ms/step - loss: 1.4463 - accuracy: 0.3017 - val_loss: 1.2138 - val_accuracy: 0.2414\n",
      "Epoch 2/10\n",
      "4/4 [==============================] - 0s 10ms/step - loss: 1.3305 - accuracy: 0.3448 - val_loss: 1.1454 - val_accuracy: 0.2414\n",
      "Epoch 3/10\n",
      "4/4 [==============================] - 0s 10ms/step - loss: 1.3445 - accuracy: 0.3793 - val_loss: 1.0827 - val_accuracy: 0.2414\n",
      "Epoch 4/10\n",
      "4/4 [==============================] - 0s 10ms/step - loss: 1.1719 - accuracy: 0.4741 - val_loss: 1.0235 - val_accuracy: 0.2414\n",
      "Epoch 5/10\n",
      "4/4 [==============================] - 0s 12ms/step - loss: 1.0235 - accuracy: 0.5259 - val_loss: 0.9707 - val_accuracy: 0.2414\n",
      "Epoch 6/10\n",
      "4/4 [==============================] - 0s 11ms/step - loss: 1.1174 - accuracy: 0.3966 - val_loss: 0.9257 - val_accuracy: 0.2414\n",
      "Epoch 7/10\n",
      "4/4 [==============================] - 0s 10ms/step - loss: 1.0271 - accuracy: 0.4569 - val_loss: 0.8850 - val_accuracy: 0.3793\n",
      "Epoch 8/10\n",
      "4/4 [==============================] - 0s 10ms/step - loss: 0.9640 - accuracy: 0.5086 - val_loss: 0.8493 - val_accuracy: 0.3793\n",
      "Epoch 9/10\n",
      "4/4 [==============================] - 0s 10ms/step - loss: 1.0483 - accuracy: 0.4569 - val_loss: 0.8188 - val_accuracy: 0.4138\n",
      "Epoch 10/10\n",
      "4/4 [==============================] - 0s 10ms/step - loss: 0.9762 - accuracy: 0.5086 - val_loss: 0.7938 - val_accuracy: 0.4483\n"
     ]
    },
    {
     "data": {
      "text/plain": [
       "<keras.src.callbacks.History at 0x265fe3ddc60>"
      ]
     },
     "execution_count": 6,
     "metadata": {},
     "output_type": "execute_result"
    }
   ],
   "source": [
    "X_train_rnn = np.array(X_train).reshape((X_train.shape[0], X_train.shape[1], 1))\n",
    "\n",
    "model = Sequential()\n",
    "\n",
    "# Thêm một SimpleRNN layer với L1 regularization\n",
    "model.add(SimpleRNN(32, input_shape=(\n",
    "    X_train_rnn.shape[1], X_train_rnn.shape[2]), kernel_regularizer=regularizers.l1(0.01)))\n",
    "\n",
    "# Thêm Dropout layer\n",
    "model.add(Dropout(0.5))\n",
    "\n",
    "# Thêm Dense layer với L1 regularization\n",
    "model.add(Dense(1, activation='sigmoid',\n",
    "          kernel_regularizer=regularizers.l1(0.01)))\n",
    "\n",
    "model.compile(optimizer='adam', loss='binary_crossentropy',\n",
    "              metrics=['accuracy'])\n",
    "\n",
    "# Định nghĩa callback EarlyStopping\n",
    "early_stopping = EarlyStopping(monitor='val_loss', patience=3)\n",
    "\n",
    "# Fit mô hình với early stopping\n",
    "model.fit(X_train_rnn, y_train, epochs=10, batch_size=32,\n",
    "          validation_split=0.2, callbacks=[early_stopping])"
   ]
  },
  {
   "cell_type": "code",
   "execution_count": 7,
   "metadata": {},
   "outputs": [
    {
     "name": "stdout",
     "output_type": "stream",
     "text": [
      "Epoch 1/10\n",
      "4/4 [==============================] - 2s 114ms/step - loss: 1.4616 - accuracy: 0.3276 - val_loss: 1.4197 - val_accuracy: 0.2414\n",
      "Epoch 2/10\n",
      "4/4 [==============================] - 0s 11ms/step - loss: 1.3450 - accuracy: 0.3707 - val_loss: 1.3248 - val_accuracy: 0.2414\n",
      "Epoch 3/10\n",
      "4/4 [==============================] - 0s 11ms/step - loss: 1.2956 - accuracy: 0.3448 - val_loss: 1.2323 - val_accuracy: 0.2414\n",
      "Epoch 4/10\n",
      "4/4 [==============================] - 0s 11ms/step - loss: 1.3248 - accuracy: 0.3190 - val_loss: 1.1414 - val_accuracy: 0.2414\n",
      "Epoch 5/10\n",
      "4/4 [==============================] - 0s 10ms/step - loss: 1.1400 - accuracy: 0.3621 - val_loss: 1.0570 - val_accuracy: 0.2414\n",
      "Epoch 6/10\n",
      "4/4 [==============================] - 0s 11ms/step - loss: 1.0587 - accuracy: 0.3966 - val_loss: 0.9847 - val_accuracy: 0.2414\n",
      "Epoch 7/10\n",
      "4/4 [==============================] - 0s 11ms/step - loss: 1.0030 - accuracy: 0.4569 - val_loss: 0.9223 - val_accuracy: 0.3448\n",
      "Epoch 8/10\n",
      "4/4 [==============================] - 0s 11ms/step - loss: 0.8908 - accuracy: 0.4741 - val_loss: 0.8701 - val_accuracy: 0.4138\n",
      "Epoch 9/10\n",
      "4/4 [==============================] - 0s 11ms/step - loss: 0.9255 - accuracy: 0.4655 - val_loss: 0.8271 - val_accuracy: 0.7586\n",
      "Epoch 10/10\n",
      "4/4 [==============================] - 0s 11ms/step - loss: 0.9098 - accuracy: 0.5172 - val_loss: 0.7957 - val_accuracy: 0.7586\n"
     ]
    },
    {
     "data": {
      "text/plain": [
       "<keras.src.callbacks.History at 0x265fff11cf0>"
      ]
     },
     "execution_count": 7,
     "metadata": {},
     "output_type": "execute_result"
    }
   ],
   "source": [
    "# Reshape X_train về dạng 3D\n",
    "X_train_lstm = np.array(X_train).reshape(\n",
    "    (X_train.shape[0], X_train.shape[1], 1))\n",
    "\n",
    "model = Sequential()\n",
    "\n",
    "# Thêm LSTM layer với L1 regularization\n",
    "model.add(LSTM(32, input_shape=(\n",
    "    X_train_lstm.shape[1], X_train_lstm.shape[2]), kernel_regularizer=regularizers.l1(0.01)))\n",
    "\n",
    "# Thêm Dropout layer\n",
    "model.add(Dropout(0.5))\n",
    "\n",
    "# Thêm Dense layer với L1 regularization\n",
    "model.add(Dense(1, activation='sigmoid',\n",
    "          kernel_regularizer=regularizers.l1(0.01)))\n",
    "\n",
    "model.compile(optimizer='adam', loss='binary_crossentropy',\n",
    "                metrics=['accuracy'])\n",
    "\n",
    "# Định nghĩa callback EarlyStopping\n",
    "early_stopping = EarlyStopping(monitor='val_loss', patience=3)\n",
    "\n",
    "# Fit mô hình với early stopping\n",
    "model.fit(X_train_lstm, y_train, epochs=10, batch_size=32,\n",
    "          validation_split=0.2, callbacks=[early_stopping])\n",
    "\n"
   ]
  }
 ],
 "metadata": {
  "kernelspec": {
   "display_name": "Python 3",
   "language": "python",
   "name": "python3"
  },
  "language_info": {
   "codemirror_mode": {
    "name": "ipython",
    "version": 3
   },
   "file_extension": ".py",
   "mimetype": "text/x-python",
   "name": "python",
   "nbconvert_exporter": "python",
   "pygments_lexer": "ipython3",
   "version": "3.10.0"
  }
 },
 "nbformat": 4,
 "nbformat_minor": 2
}
